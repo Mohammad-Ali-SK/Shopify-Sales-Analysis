import pandas as pd
import matplotlib.pyplot as plt
import seaborn as sns

# Sample data setup
data = {
    'Billing Address Country': ['USA', 'Canada', 'USA', 'Canada'],
    'Product Type': ['A', 'B', 'A', 'B'],
    'Quantity': [1, 2, 3, 4],
    'Subtotal Price': [10.0, 20.0, 30.0, 40.0],
    'Total Price Usd': [11.0, 22.0, 33.0, 44.0],
    'Total Tax': [1.0, 2.0, 3.0, 4.0]
}
df = pd.DataFrame(data)

categorical_cols = ['Billing Address Country', 'Product Type']
numerical_df = df[['Quantity', 'Subtotal Price', 'Total Price Usd', 'Total Tax']]

for cat in categorical_cols:
    for num in numerical_df.columns:
        plt.figure(figsize=(10, 4))
        sns.boxplot(data=df, x=cat, y=num, palette='pastel')
        plt.title(f'{cat} vs {num}')
        plt.xticks(rotation=45)
        plt.tight_layout()
        plt.show()
